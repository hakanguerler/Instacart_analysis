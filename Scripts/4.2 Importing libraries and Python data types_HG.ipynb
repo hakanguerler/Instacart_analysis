{
 "cells": [
  {
   "cell_type": "markdown",
   "id": "23bc86db",
   "metadata": {},
   "source": [
    "1. Importing libraries"
   ]
  },
  {
   "cell_type": "code",
   "execution_count": 28,
   "id": "1c50580c",
   "metadata": {},
   "outputs": [],
   "source": [
    "# importing libraries\n",
    "\n",
    "import pandas as pd\n",
    "import numpy as np\n",
    "import os"
   ]
  },
  {
   "cell_type": "code",
   "execution_count": 5,
   "id": "91e7f0c8",
   "metadata": {},
   "outputs": [],
   "source": [
    "# 3 different ways to reach 100 "
   ]
  },
  {
   "cell_type": "code",
   "execution_count": 29,
   "id": "f546d438",
   "metadata": {},
   "outputs": [],
   "source": [
    "x= 35 + 65 "
   ]
  },
  {
   "cell_type": "code",
   "execution_count": 30,
   "id": "3c18475f",
   "metadata": {},
   "outputs": [],
   "source": [
    "y= 25 * 4 "
   ]
  },
  {
   "cell_type": "code",
   "execution_count": 35,
   "id": "6cc9b439",
   "metadata": {},
   "outputs": [],
   "source": [
    "z= 500-300-100"
   ]
  },
  {
   "cell_type": "code",
   "execution_count": 36,
   "id": "f8af5fb1",
   "metadata": {},
   "outputs": [
    {
     "name": "stdout",
     "output_type": "stream",
     "text": [
      "100 100 100\n"
     ]
    }
   ],
   "source": [
    "print(x,y,z)"
   ]
  },
  {
   "cell_type": "code",
   "execution_count": 37,
   "id": "90cda7fb",
   "metadata": {},
   "outputs": [],
   "source": [
    "# Code 2 Floating points variables and divide them each other"
   ]
  },
  {
   "cell_type": "code",
   "execution_count": 38,
   "id": "c1dd5614",
   "metadata": {},
   "outputs": [
    {
     "name": "stdout",
     "output_type": "stream",
     "text": [
      "1.4777327935222673\n"
     ]
    }
   ],
   "source": [
    "a = 18.25\n",
    "b = 12.35\n",
    "c = (a/b)\n",
    "print(c)\n"
   ]
  },
  {
   "cell_type": "code",
   "execution_count": 39,
   "id": "dc3adb63",
   "metadata": {},
   "outputs": [],
   "source": [
    "# Constract a short word"
   ]
  },
  {
   "cell_type": "code",
   "execution_count": 40,
   "id": "5676e3b7",
   "metadata": {},
   "outputs": [
    {
     "name": "stdout",
     "output_type": "stream",
     "text": [
      "SCIENCE\n"
     ]
    }
   ],
   "source": [
    "s = 'S'\n",
    "m = 'C'\n",
    "i = 'I'\n",
    "e = 'E'\n",
    "n = 'N'\n",
    "\n",
    "x= s+m+i+e+n+m+e\n",
    "print(x)"
   ]
  },
  {
   "cell_type": "code",
   "execution_count": 41,
   "id": "192fb586",
   "metadata": {},
   "outputs": [],
   "source": [
    "# Construct 2 short sentences made of separate strings"
   ]
  },
  {
   "cell_type": "code",
   "execution_count": 42,
   "id": "ac7705e2",
   "metadata": {},
   "outputs": [
    {
     "name": "stdout",
     "output_type": "stream",
     "text": [
      "Hauptstadt Berlin\n"
     ]
    }
   ],
   "source": [
    "a = 'Hauptstadt '\n",
    "b = 'Berlin'\n",
    "c = a+b \n",
    "print (c)"
   ]
  },
  {
   "cell_type": "code",
   "execution_count": 21,
   "id": "90cf5245",
   "metadata": {},
   "outputs": [],
   "source": [
    "# Bonus Task"
   ]
  },
  {
   "cell_type": "code",
   "execution_count": 43,
   "id": "9fcec00a",
   "metadata": {},
   "outputs": [],
   "source": [
    "C=c*100"
   ]
  },
  {
   "cell_type": "code",
   "execution_count": 44,
   "id": "0c8bd50a",
   "metadata": {},
   "outputs": [
    {
     "name": "stdout",
     "output_type": "stream",
     "text": [
      "Hauptstadt BerlinHauptstadt BerlinHauptstadt BerlinHauptstadt BerlinHauptstadt BerlinHauptstadt BerlinHauptstadt BerlinHauptstadt BerlinHauptstadt BerlinHauptstadt BerlinHauptstadt BerlinHauptstadt BerlinHauptstadt BerlinHauptstadt BerlinHauptstadt BerlinHauptstadt BerlinHauptstadt BerlinHauptstadt BerlinHauptstadt BerlinHauptstadt BerlinHauptstadt BerlinHauptstadt BerlinHauptstadt BerlinHauptstadt BerlinHauptstadt BerlinHauptstadt BerlinHauptstadt BerlinHauptstadt BerlinHauptstadt BerlinHauptstadt BerlinHauptstadt BerlinHauptstadt BerlinHauptstadt BerlinHauptstadt BerlinHauptstadt BerlinHauptstadt BerlinHauptstadt BerlinHauptstadt BerlinHauptstadt BerlinHauptstadt BerlinHauptstadt BerlinHauptstadt BerlinHauptstadt BerlinHauptstadt BerlinHauptstadt BerlinHauptstadt BerlinHauptstadt BerlinHauptstadt BerlinHauptstadt BerlinHauptstadt BerlinHauptstadt BerlinHauptstadt BerlinHauptstadt BerlinHauptstadt BerlinHauptstadt BerlinHauptstadt BerlinHauptstadt BerlinHauptstadt BerlinHauptstadt BerlinHauptstadt BerlinHauptstadt BerlinHauptstadt BerlinHauptstadt BerlinHauptstadt BerlinHauptstadt BerlinHauptstadt BerlinHauptstadt BerlinHauptstadt BerlinHauptstadt BerlinHauptstadt BerlinHauptstadt BerlinHauptstadt BerlinHauptstadt BerlinHauptstadt BerlinHauptstadt BerlinHauptstadt BerlinHauptstadt BerlinHauptstadt BerlinHauptstadt BerlinHauptstadt BerlinHauptstadt BerlinHauptstadt BerlinHauptstadt BerlinHauptstadt BerlinHauptstadt BerlinHauptstadt BerlinHauptstadt BerlinHauptstadt BerlinHauptstadt BerlinHauptstadt BerlinHauptstadt BerlinHauptstadt BerlinHauptstadt BerlinHauptstadt BerlinHauptstadt BerlinHauptstadt BerlinHauptstadt BerlinHauptstadt BerlinHauptstadt BerlinHauptstadt Berlin\n"
     ]
    }
   ],
   "source": [
    "print(C)"
   ]
  }
 ],
 "metadata": {
  "kernelspec": {
   "display_name": "Python 3",
   "language": "python",
   "name": "python3"
  },
  "language_info": {
   "codemirror_mode": {
    "name": "ipython",
    "version": 3
   },
   "file_extension": ".py",
   "mimetype": "text/x-python",
   "name": "python",
   "nbconvert_exporter": "python",
   "pygments_lexer": "ipython3",
   "version": "3.8.8"
  }
 },
 "nbformat": 4,
 "nbformat_minor": 5
}
